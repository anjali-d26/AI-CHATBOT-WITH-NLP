{
  "cells": [
    {
      "cell_type": "code",
      "source": [
        "import nltk\n",
        "from nltk.chat.util import Chat, reflections\n",
        "\n",
        "# Pairs of patterns and responses\n",
        "pairs = [\n",
        "    [\n",
        "        r\"(hi|hello|hey|hii)\",\n",
        "        [\"Hello! How can I help you today?\", \"Hi there! What can I do for you?\"]\n",
        "    ],\n",
        "    [\n",
        "        r\"what is your name?\",\n",
        "        [\"I'm a simple chatbot created with NLTK.\"]\n",
        "    ],\n",
        "    [\n",
        "        r\"how are you ?\",\n",
        "        [\"I'm just a bot, but I'm doing fine. Thanks!\"]\n",
        "    ],\n",
        "    [\n",
        "        r\"(.*)(help|support)(.*)\",\n",
        "        [\"Sure, I can help. Please tell me more.\"]\n",
        "    ],\n",
        "    [\n",
        "        r\"(.*)(your name|who are you)(.*)\",\n",
        "        [\"I'm your AI assistant created using Python and NLTK.\"]\n",
        "    ],\n",
        "    [\n",
        "        r\"quit\",\n",
        "        [\"Goodbye! Have a nice day.\"]\n",
        "    ],\n",
        "    [\n",
        "        r\"(.*)\",\n",
        "        [\"I'm not sure I understand. Could you please rephrase?\"]\n",
        "    ],\n",
        "]\n",
        "\n",
        "# Create and start the chatbot\n",
        "def chatbot():\n",
        "    print(\"Hi! I'm a chatbot. Type 'quit' to exit.\")\n",
        "    chat = Chat(pairs, reflections)\n",
        "    chat.converse()\n",
        "\n",
        "# Run the chatbot\n",
        "if __name__ == \"__main__\":\n",
        "    chatbot()\n"
      ],
      "metadata": {
        "id": "_r88vXmb2-GA",
        "outputId": "3e0d443e-f1f9-4d2d-e7ba-c5eb7c76e5a4",
        "colab": {
          "base_uri": "https://localhost:8080/"
        }
      },
      "id": "_r88vXmb2-GA",
      "execution_count": 10,
      "outputs": [
        {
          "output_type": "stream",
          "name": "stdout",
          "text": [
            "Hi! I'm a chatbot. Type 'quit' to exit.\n",
            ">hi\n",
            "Hi there! What can I do for you?\n",
            ">who are you\n",
            "I'm your AI assistant created using Python and NLTK.\n",
            ">quit\n",
            "Goodbye! Have a nice day.\n"
          ]
        }
      ]
    }
  ],
  "metadata": {
    "kernelspec": {
      "display_name": "Python 3 (ipykernel)",
      "language": "python",
      "name": "python3"
    },
    "language_info": {
      "codemirror_mode": {
        "name": "ipython",
        "version": 3
      },
      "file_extension": ".py",
      "mimetype": "text/x-python",
      "name": "python",
      "nbconvert_exporter": "python",
      "pygments_lexer": "ipython3",
      "version": "3.11.5"
    },
    "colab": {
      "provenance": []
    }
  },
  "nbformat": 4,
  "nbformat_minor": 5
}